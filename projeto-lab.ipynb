{
 "cells": [
  {
   "cell_type": "markdown",
   "id": "891f4506-fd9b-4f32-8294-c542ea95a900",
   "metadata": {},
   "source": [
    "# Projeto Aplicado"
   ]
  },
  {
   "cell_type": "code",
   "execution_count": 371,
   "id": "88d3f4bb-51ac-4675-86a3-56c7190464cd",
   "metadata": {},
   "outputs": [],
   "source": [
    "import pandas as pd\n",
    "import yfinance as yf\n",
    "from curl_cffi import requests\n",
    "import os\n",
    "\n",
    "session = requests.Session(impersonate=\"chrome\")\n",
    "\n",
    "start = \"1996-01-01\"\n",
    "end = \"2023-12-31\""
   ]
  },
  {
   "cell_type": "code",
   "execution_count": 342,
   "id": "cdf5e6cc-751c-4c78-b6d0-e2cdc98820a7",
   "metadata": {},
   "outputs": [
    {
     "data": {
      "text/plain": [
       "'0.2.55'"
      ]
     },
     "execution_count": 342,
     "metadata": {},
     "output_type": "execute_result"
    }
   ],
   "source": [
    "yf.__version__ # check your version"
   ]
  },
  {
   "cell_type": "markdown",
   "id": "38ae4e14-f7db-448a-969c-8696c8731e39",
   "metadata": {},
   "source": [
    "## Download de dados de índices de mercado"
   ]
  },
  {
   "cell_type": "code",
   "execution_count": 763,
   "id": "6fd4127c-8d89-4000-932c-a154e991e5d9",
   "metadata": {},
   "outputs": [],
   "source": [
    "def download_idx(idx, idx_symbol):\n",
    "    os.makedirs('files', exist_ok=True)\n",
    "    df = yf.download(idx_symbol, start=start, end=end, multi_level_index=False, session=session)\n",
    "    df_annual = df['Close'].resample('Y').last()\n",
    "    df_csv = pd.DataFrame({\n",
    "        'year': df_annual.index.year,\n",
    "        idx: df_annual.values\n",
    "    })\n",
    "    df_csv.to_csv(f'files/{idx}.csv', index=False)"
   ]
  },
  {
   "cell_type": "code",
   "execution_count": 765,
   "id": "59c432c4-a01f-47b6-a71e-da017009ba74",
   "metadata": {},
   "outputs": [
    {
     "name": "stderr",
     "output_type": "stream",
     "text": [
      "[*********************100%***********************]  1 of 1 completed\n"
     ]
    }
   ],
   "source": [
    "download_idx(\"ibov\", \"^BVSP\")"
   ]
  },
  {
   "cell_type": "code",
   "execution_count": 529,
   "id": "e47c3781-9eea-4cbe-8e38-c7c4c9fdfe35",
   "metadata": {},
   "outputs": [
    {
     "name": "stderr",
     "output_type": "stream",
     "text": [
      "[*********************100%***********************]  1 of 1 completed\n"
     ]
    }
   ],
   "source": [
    "download_idx(\"sp500\", \"^GSPC\")"
   ]
  },
  {
   "cell_type": "code",
   "execution_count": 533,
   "id": "6c82c294-022b-49c7-89b3-7080d114486d",
   "metadata": {},
   "outputs": [
    {
     "name": "stderr",
     "output_type": "stream",
     "text": [
      "[*********************100%***********************]  1 of 1 completed\n"
     ]
    }
   ],
   "source": [
    "download_idx(\"dax\", \"^GDAXI\")"
   ]
  },
  {
   "cell_type": "code",
   "execution_count": 535,
   "id": "03f35312-1a21-4424-ae80-51f9bc406a29",
   "metadata": {},
   "outputs": [
    {
     "name": "stderr",
     "output_type": "stream",
     "text": [
      "[*********************100%***********************]  1 of 1 completed\n"
     ]
    }
   ],
   "source": [
    "download_idx(\"nikkei\", \"^N225\")"
   ]
  },
  {
   "cell_type": "code",
   "execution_count": 537,
   "id": "24d328f3-e139-4a8d-9c13-38f212f926ba",
   "metadata": {},
   "outputs": [
    {
     "name": "stderr",
     "output_type": "stream",
     "text": [
      "[*********************100%***********************]  1 of 1 completed\n"
     ]
    }
   ],
   "source": [
    "download_idx(\"sti\", \"^STI\")"
   ]
  },
  {
   "cell_type": "code",
   "execution_count": 539,
   "id": "999a0684-4268-4134-8eed-b84206114be5",
   "metadata": {},
   "outputs": [
    {
     "name": "stderr",
     "output_type": "stream",
     "text": [
      "[*********************100%***********************]  1 of 1 completed\n"
     ]
    }
   ],
   "source": [
    "download_idx(\"asx200\", \"^AXJO\")"
   ]
  },
  {
   "cell_type": "code",
   "execution_count": 541,
   "id": "c1d35196-7fc8-4d36-8e19-310968de3ac4",
   "metadata": {},
   "outputs": [
    {
     "name": "stderr",
     "output_type": "stream",
     "text": [
      "[*********************100%***********************]  1 of 1 completed\n"
     ]
    }
   ],
   "source": [
    "download_idx(\"mexbol\", \"^MXX\")"
   ]
  },
  {
   "cell_type": "code",
   "execution_count": 545,
   "id": "d1a63b05-fed1-4455-8f4a-e3c7da9c2aa5",
   "metadata": {},
   "outputs": [
    {
     "name": "stderr",
     "output_type": "stream",
     "text": [
      "[*********************100%***********************]  1 of 1 completed\n"
     ]
    }
   ],
   "source": [
    "download_idx(\"ssmi\", \"^SSMI\")"
   ]
  },
  {
   "cell_type": "code",
   "execution_count": 547,
   "id": "b631a1ec-9626-479d-8a4d-ed2ce5b6c000",
   "metadata": {},
   "outputs": [],
   "source": [
    "df = pd.read_excel('wgi.xlsx')\n",
    "df.to_csv('files/wgi.csv', index=False)"
   ]
  },
  {
   "cell_type": "markdown",
   "id": "a9235328-6265-4eaf-95bb-9a8e26c766ea",
   "metadata": {},
   "source": [
    "## Combina dados dos índices com os indicadores do WGI de seu país"
   ]
  },
  {
   "cell_type": "code",
   "execution_count": 767,
   "id": "513d3430-d249-4898-aa3c-07ce05455a94",
   "metadata": {},
   "outputs": [
    {
     "name": "stdout",
     "output_type": "stream",
     "text": [
      "Arquivo salvo: files/wgi_ibov_combined.csv\n",
      "Arquivo salvo: files/wgi_sp500_combined.csv\n",
      "Arquivo salvo: files/wgi_dax_combined.csv\n",
      "Arquivo salvo: files/wgi_nikkei_combined.csv\n",
      "Arquivo salvo: files/wgi_sti_combined.csv\n",
      "Arquivo salvo: files/wgi_asx200_combined.csv\n",
      "Arquivo salvo: files/wgi_mexbol_combined.csv\n",
      "Arquivo salvo: files/wgi_ssmi_combined.csv\n"
     ]
    }
   ],
   "source": [
    "import pandas as pd\n",
    "\n",
    "# Mapping of indices to countries and their CSV file names\n",
    "index_country_mapping = {\n",
    "    'ibov': {'country': 'Brazil', 'csv': 'ibov.csv'},\n",
    "    'sp500': {'country': 'United States', 'csv': 'sp500.csv'},\n",
    "    'dax': {'country': 'Germany', 'csv': 'dax.csv'},\n",
    "    'nikkei': {'country': 'Japan', 'csv': 'nikkei.csv'},\n",
    "    'sti': {'country': 'Singapore', 'csv': 'sti.csv'},\n",
    "    'asx200': {'country': 'Australia', 'csv': 'asx200.csv'},\n",
    "    'mexbol': {'country': 'Mexico', 'csv': 'mexbol.csv'},\n",
    "    'ssmi': {'country': 'Switzerland', 'csv': 'ssmi.csv'}\n",
    "}\n",
    "\n",
    "wgi_indicators = ['cc', 'ge', 'pv', 'rl', 'rq', 'va']\n",
    "\n",
    "df_wgi = pd.read_csv('files/wgi.csv')\n",
    "\n",
    "df_wgi['pctrank'] = pd.to_numeric(df_wgi['pctrank'], errors='coerce')\n",
    "\n",
    "for index, info in index_country_mapping.items():\n",
    "    country = info['country']\n",
    "    index_csv = info['csv']\n",
    "    \n",
    "    df_country = df_wgi[df_wgi['countryname'] == country]\n",
    "    \n",
    "    # Pivot WGI data to have indicators as columns\n",
    "    df_pivoted = df_country.pivot_table(index='year', columns='indicator', values='pctrank')\n",
    "    df_pivoted.columns.name = None\n",
    "    df_pivoted = df_pivoted.rename(columns=lambda x: x.strip())\n",
    "    \n",
    "    try:\n",
    "        df_index = pd.read_csv(\"files/\"+index_csv)\n",
    "    except FileNotFoundError:\n",
    "        print(f\"Arquivo {index_csv} não encontrado. Pulando {index}.\")\n",
    "        continue\n",
    "    \n",
    "    df_combined = pd.merge(df_pivoted, df_index, on='year', how='inner')\n",
    "    \n",
    "    output_file = f'files/wgi_{index}_combined.csv'\n",
    "    df_combined.to_csv(output_file, index=True)\n",
    "    print(f\"Arquivo salvo: {output_file}\")\n"
   ]
  },
  {
   "cell_type": "markdown",
   "id": "bfe3c984-a7a9-4848-bfa7-af6adb27871f",
   "metadata": {},
   "source": [
    "## Regressão linear múltipla dos índices e indicadores do WGI"
   ]
  },
  {
   "cell_type": "markdown",
   "id": "6326a17c-635e-48f4-8daf-7f216e1c212a",
   "metadata": {},
   "source": [
    "cc: Control of Corruption\n",
    "ge: Government Effectiveness\n",
    "pv: Political Stability and Absence of Violence/Terrorism\n",
    "rl: Rule of Law\n",
    "rq: Regulatory Quality\n",
    "va: Voice and Accountability"
   ]
  },
  {
   "cell_type": "code",
   "execution_count": 773,
   "id": "670218a3-2b16-4954-bc0b-4ee63bc84e74",
   "metadata": {},
   "outputs": [],
   "source": [
    "import os\n",
    "import pandas as pd\n",
    "import numpy as np\n",
    "from sklearn.preprocessing import MinMaxScaler\n",
    "import statsmodels.api as sm\n",
    "from statsmodels.stats.outliers_influence import variance_inflation_factor\n",
    "from scipy import stats\n",
    "import matplotlib.pyplot as plt\n",
    "import seaborn as sns\n",
    "from itertools import combinations\n",
    "from sklearn.metrics import mean_absolute_error\n",
    "from sklearn.preprocessing import MinMaxScaler\n",
    "import joblib\n",
    "\n",
    "def test_models(idx, x=['cc', 'ge', 'pv', 'rl', 'rq', 'va']):\n",
    "    file_name = f'files/wgi_{idx}_combined.csv'\n",
    "    \n",
    "    df = pd.read_csv(file_name)\n",
    "\n",
    "    # Create directories\n",
    "    os.makedirs(f'models/{idx}', exist_ok=True)\n",
    "    os.makedirs(f'plots/{idx}', exist_ok=True)\n",
    "\n",
    "    # Original features and target\n",
    "    X_orig = df[x].values\n",
    "    y_orig = df[idx].values.reshape(-1, 1)\n",
    "\n",
    "    # Normalizar apenas y\n",
    "    scaler_y = MinMaxScaler(feature_range=(0.01, 1.0))\n",
    "    y_norm = scaler_y.fit_transform(y_orig)\n",
    "    y_series = pd.Series(y_norm.ravel(), name=idx)\n",
    "\n",
    "    best_model = None\n",
    "    best_score = -np.inf\n",
    "    best_model_name = None\n",
    "    best_features = None\n",
    "    best_X_var = None\n",
    "    best_y_var = None\n",
    "    best_model_obj = None\n",
    "\n",
    "    # Test all feature combinations\n",
    "    for r in range(1, len(x) + 1):\n",
    "        for feature_subset in combinations(x, r):\n",
    "            feature_subset = list(feature_subset)\n",
    "            X_subset = df[feature_subset].values\n",
    "            X_df = pd.DataFrame(X_subset, columns=feature_subset)\n",
    "\n",
    "            modelos = {\n",
    "                'Linear-Linear': (X_df, y_series),\n",
    "                'Log-Lin': (np.log(X_df), y_series),\n",
    "                'Log-Log': (np.log(X_df), np.log(y_series))\n",
    "            }\n",
    "\n",
    "            for nome, (X_var, y_var) in modelos.items():\n",
    "                # Skip if X_var or y_var contains invalid values\n",
    "                if (np.any(np.isnan(X_var)) or np.any(np.isinf(X_var)) or\n",
    "                    np.any(np.isnan(y_var)) or np.any(np.isinf(y_var))):\n",
    "                    continue\n",
    "                X_var_const = sm.add_constant(X_var)\n",
    "                model = sm.OLS(y_var, X_var_const).fit()\n",
    "\n",
    "                # Compute metrics\n",
    "                adj_r2 = model.rsquared_adj\n",
    "                y_pred = model.predict(X_var_const)\n",
    "                mae = mean_absolute_error(y_var, y_pred)\n",
    "                significant_vars = sum(p < 0.05 for p in model.pvalues[1:])  # Exclude constant\n",
    "\n",
    "                # Composite score\n",
    "                max_y_var = max(y_var) if max(y_var) > 0 else 1.0\n",
    "                score = adj_r2 - mae / max_y_var + significant_vars / len(feature_subset)\n",
    "\n",
    "                if score > best_score:\n",
    "                    best_score = score\n",
    "                    best_model = model\n",
    "                    best_model_name = nome\n",
    "                    best_features = feature_subset\n",
    "                    best_X_var = pd.DataFrame(X_var, columns=feature_subset)\n",
    "                    best_y_var = y_var\n",
    "                    best_model_obj = model\n",
    "\n",
    "    if best_model is None:\n",
    "        print(f\"\\n### No valid model found for {idx.upper()} ###\")\n",
    "        return\n",
    "\n",
    "    print(f\"\\n### Best Model for {idx.upper()}: {best_model_name.upper()} with Features {best_features} ###\")\n",
    "    print(best_model.summary())\n",
    "\n",
    "    print(f\"Mean absolute error: {mae}\")\n",
    "\n",
    "    # Save the best model\n",
    "    model_file = f'models/{idx}/{idx}_{best_model_name}.pkl'\n",
    "    best_model.save(model_file)\n",
    "    print(f\"\\n### Best Model Saved: {model_file} ###\")\n",
    "\n",
    "    # Serialize the scaler_y\n",
    "    scaler_file = f'models/{idx}/{idx}_scaler_y.pkl'\n",
    "    with open(scaler_file, 'wb') as f:\n",
    "        pickle.dump(scaler_y, f)\n",
    "    print(f\"### Scaler Saved: {scaler_file} ###\")\n",
    "\n",
    "    # Plots\n",
    "    n_cols = 3\n",
    "    n_rows = int(np.ceil(len(best_features) / n_cols))\n",
    "    plt.figure(figsize=(5 * n_cols, 4 * n_rows))\n",
    "\n",
    "    for i, col in enumerate(best_X_var.columns, 1):\n",
    "        plt.subplot(n_rows, n_cols, i)\n",
    "        sns.scatterplot(x=best_X_var[col], y=best_y_var)\n",
    "        plt.title(f'{col} vs {idx}')\n",
    "        plt.xlabel(col)\n",
    "        plt.ylabel(idx)\n",
    "\n",
    "    plt.tight_layout()\n",
    "    plt.savefig(f'plots/{idx}/{idx}_todas_variaveis_vs_y.png')\n",
    "    plt.close()\n",
    "\n",
    "    # VIF\n",
    "    X_var_const = sm.add_constant(best_X_var)\n",
    "    vif_data = pd.DataFrame()\n",
    "    vif_data[\"Variable\"] = X_var_const.columns\n",
    "    vif_data[\"VIF\"] = [variance_inflation_factor(X_var_const.values, i) for i in range(X_var_const.shape[1])]\n",
    "\n",
    "    plt.figure(figsize=(8,4))\n",
    "    sns.barplot(x=\"Variable\", y=\"VIF\", data=vif_data)\n",
    "    plt.title(f'VIF - {idx} - {best_model_name}')\n",
    "    plt.xticks(rotation=45)\n",
    "    plt.tight_layout()\n",
    "    plt.savefig(f'plots/{idx}/{idx}_{best_model_name}_vif.png')\n",
    "    plt.close()\n",
    "\n",
    "    # Residuals\n",
    "    residuals = best_model.resid\n",
    "\n",
    "    plt.figure(figsize=(6,4))\n",
    "    sns.histplot(residuals, kde=True)\n",
    "    plt.title(f'Histograma dos Resíduos - {best_model_name}')\n",
    "    plt.tight_layout()\n",
    "    plt.savefig(f'plots/{idx}/{idx}_{best_model_name}_residuos_hist.png')\n",
    "    plt.close()\n",
    "\n",
    "    plt.figure(figsize=(6,4))\n",
    "    sm.qqplot(residuals, line='s', fit=True)\n",
    "    plt.title(f'Q-Q Plot dos Resíduos - {best_model_name}')\n",
    "    plt.tight_layout()\n",
    "    plt.savefig(f'plots/{idx}/{idx}_{best_model_name}_residuos_qq.png')\n",
    "    plt.close()\n",
    "\n",
    "def predict_with_saved_model(idx, x, model_name):\n",
    "    # Validate model_name\n",
    "    valid_models = ['Linear-Linear', 'Log-Lin', 'Log-Log']\n",
    "    if model_name not in valid_models:\n",
    "        print(f\"Error: model_name must be one of {valid_models}\")\n",
    "        return None\n",
    "\n",
    "    # Load the original data\n",
    "    file_name = f'files/wgi_{idx}_combined.csv'\n",
    "    if not os.path.exists(file_name):\n",
    "        print(f\"Error: Data file {file_name} not found\")\n",
    "        return None\n",
    "    \n",
    "    df = pd.read_csv(file_name)\n",
    "\n",
    "    # Verify features and target exist\n",
    "    missing_cols = [col for col in x + [idx] if col not in df.columns]\n",
    "    if missing_cols:\n",
    "        print(f\"Error: Columns {missing_cols} not found in {file_name}\")\n",
    "        return None\n",
    "\n",
    "    # Original features and target\n",
    "    X_orig = df[x].values\n",
    "    y_orig = df[idx].values.reshape(-1, 1)\n",
    "\n",
    "    # Initialize scaler for target\n",
    "    scaler_y = MinMaxScaler(feature_range=(0.01, 1.0))\n",
    "    y_norm = scaler_y.fit_transform(y_orig)\n",
    "    y_series = pd.Series(y_norm.ravel(), name=idx)\n",
    "\n",
    "    # Prepare model data based on model_name\n",
    "    X_df = pd.DataFrame(X_orig, columns=x)\n",
    "    if model_name == 'Linear-Linear':\n",
    "        X_var = X_df\n",
    "        y_var = y_series\n",
    "    elif model_name == 'Log-Lin':\n",
    "        X_var = np.log(X_df)\n",
    "        y_var = y_series\n",
    "    elif model_name == 'Log-Log':\n",
    "        X_var = np.log(X_df)\n",
    "        y_var = np.log(y_series)\n",
    "\n",
    "    # Check for invalid values\n",
    "    if np.any(np.isnan(X_var)) or np.any(np.isinf(X_var)) or np.any(np.isnan(y_var)) or np.any(np.isinf(y_var)):\n",
    "        print(f\"Error: Invalid values (NaN or inf) in features or target after transformation for {model_name}\")\n",
    "        return None\n",
    "\n",
    "    # Add constant for statsmodels\n",
    "    X_var_const = sm.add_constant(X_var)\n",
    "\n",
    "    # Load the saved model\n",
    "    model_file = f'models/{idx}/{idx}_{model_name}.pkl'\n",
    "    if not os.path.exists(model_file):\n",
    "        print(f\"Error: Model file {model_file} not found\")\n",
    "        return None\n",
    "\n",
    "    model = sm.load(model_file)\n",
    "\n",
    "    # Predict on all rows\n",
    "    pred_norm = model.predict(X_var_const)\n",
    "    \n",
    "    # Inverse-transform predictions\n",
    "    if model_name == 'Log-Log':\n",
    "        # Exponentiate to reverse log transformation\n",
    "        pred_norm = np.exp(pred_norm)\n",
    "    # Inverse-transform to original scale\n",
    "    pred_orig = scaler_y.inverse_transform(pred_norm.values.reshape(-1, 1)).ravel()\n",
    "\n",
    "    # Create table with actual and predicted values\n",
    "    results = pd.DataFrame({\n",
    "        f'Actual {idx.upper()}': y_orig.ravel(),\n",
    "        f'Predicted {idx.upper()}': pred_orig\n",
    "    })\n",
    "\n",
    "    # Display the table\n",
    "    print(f\"\\n{idx.upper()} Predictions for All Rows (Using {model_name} Model):\")\n",
    "    print(results.to_string(index=False))\n",
    "\n",
    "def predict_new_values(idx, x, values, model_name):\n",
    "    # Validate model_name\n",
    "    valid_models = ['Linear-Linear', 'Log-Lin', 'Log-Log']\n",
    "    if model_name not in valid_models:\n",
    "        print(f\"Error: model_name must be one of {valid_models}\")\n",
    "        return None\n",
    "\n",
    "    # Create DataFrame from the provided values (simulating what would come from the CSV)\n",
    "    df = pd.DataFrame([values], columns=x)\n",
    "\n",
    "    # Prepare model data based on model_name\n",
    "    if model_name == 'Linear-Linear':\n",
    "        X_var = df\n",
    "    elif model_name == 'Log-Lin':\n",
    "        X_var = np.log(df)\n",
    "    elif model_name == 'Log-Log':\n",
    "        X_var = np.log(df)\n",
    "    \n",
    "    # Check for invalid values\n",
    "    if np.any(np.isnan(X_var)) or np.any(np.isinf(X_var)):\n",
    "        print(f\"Error: Invalid values (NaN or inf) in features after transformation for {model_name}\")\n",
    "        return None\n",
    "\n",
    "    # Add constant for statsmodels\n",
    "    X_var_const = sm.add_constant(X_var, has_constant='add')\n",
    "\n",
    "    # Load the saved model\n",
    "    model_file = f'models/{idx}/{idx}_{model_name}.pkl'\n",
    "    if not os.path.exists(model_file):\n",
    "        print(f\"Error: Model file {model_file} not found\")\n",
    "        return None\n",
    "\n",
    "    model = sm.load(model_file)\n",
    "\n",
    "    # Load the saved scaler\n",
    "    scaler_file = f'models/{idx}/{idx}_scaler_y.pkl'\n",
    "    if not os.path.exists(scaler_file):\n",
    "        print(f\"Error: Scaler file {scaler_file} not found\")\n",
    "        return None\n",
    "\n",
    "    scaler_y = joblib.load(scaler_file)\n",
    "\n",
    "    # Predict using the model\n",
    "    try:\n",
    "        pred_norm = model.predict(X_var_const)\n",
    "    except Exception as e:\n",
    "        print(f\"Error during prediction: {e}\")\n",
    "        return None\n",
    "    \n",
    "    # Inverse-transform predictions\n",
    "    if model_name == 'Log-Log':\n",
    "        # Exponentiate to reverse log transformation\n",
    "        pred_norm = np.exp(pred_norm)\n",
    "\n",
    "    # Inverse-transform to original scale\n",
    "    pred_orig = scaler_y.inverse_transform(pred_norm.values.reshape(-1, 1)).ravel()\n",
    "\n",
    "    # Create a DataFrame with predicted values\n",
    "    results = pd.DataFrame({\n",
    "        f'Predicted {idx.upper()}': pred_orig\n",
    "    })\n",
    "\n",
    "    # Display the table\n",
    "    print(f\"\\n{idx.upper()} Predictions (Using {model_name} Model):\")\n",
    "    print(results.to_string(index=False))\n",
    "\n",
    "    return results\n",
    "\n",
    "# predict_new_values('ibov', ['ge'], [32.075469970703125], 'Log-Lin')"
   ]
  },
  {
   "cell_type": "markdown",
   "id": "32a9e5b8-4027-4e44-8b91-b8a972fcbc41",
   "metadata": {},
   "source": [
    "## Seleciona o melhor modelo para o índice IBOV"
   ]
  },
  {
   "cell_type": "code",
   "execution_count": 775,
   "id": "bcf486c8-38ec-4e4d-8acb-dd86a7c71fc7",
   "metadata": {},
   "outputs": [
    {
     "name": "stdout",
     "output_type": "stream",
     "text": [
      "\n",
      "### Best Model for IBOV: LOG-LIN with Features ['ge'] ###\n",
      "                            OLS Regression Results                            \n",
      "==============================================================================\n",
      "Dep. Variable:                   ibov   R-squared:                       0.687\n",
      "Model:                            OLS   Adj. R-squared:                  0.673\n",
      "Method:                 Least Squares   F-statistic:                     50.45\n",
      "Date:                Wed, 07 May 2025   Prob (F-statistic):           3.10e-07\n",
      "Time:                        18:46:57   Log-Likelihood:                 10.902\n",
      "No. Observations:                  25   AIC:                            -17.80\n",
      "Df Residuals:                      23   BIC:                            -15.37\n",
      "Df Model:                           1                                         \n",
      "Covariance Type:            nonrobust                                         \n",
      "==============================================================================\n",
      "                 coef    std err          t      P>|t|      [0.025      0.975]\n",
      "------------------------------------------------------------------------------\n",
      "const          5.1029      0.661      7.724      0.000       3.736       6.469\n",
      "ge            -1.2279      0.173     -7.102      0.000      -1.586      -0.870\n",
      "==============================================================================\n",
      "Omnibus:                        0.204   Durbin-Watson:                   1.225\n",
      "Prob(Omnibus):                  0.903   Jarque-Bera (JB):                0.190\n",
      "Skew:                           0.169   Prob(JB):                        0.909\n",
      "Kurtosis:                       2.738   Cond. No.                         82.7\n",
      "==============================================================================\n",
      "\n",
      "Notes:\n",
      "[1] Standard Errors assume that the covariance matrix of the errors is correctly specified.\n",
      "Mean absolute error: 0.6089473162978443\n",
      "\n",
      "### Best Model Saved: models/ibov/ibov_Log-Lin.pkl ###\n",
      "### Scaler Saved: models/ibov/ibov_scaler_y.pkl ###\n"
     ]
    },
    {
     "data": {
      "text/plain": [
       "<Figure size 600x400 with 0 Axes>"
      ]
     },
     "metadata": {},
     "output_type": "display_data"
    }
   ],
   "source": [
    "test_models('ibov')"
   ]
  },
  {
   "cell_type": "code",
   "execution_count": 777,
   "id": "36280908-b346-4899-863b-bc4f9cf5b3b0",
   "metadata": {},
   "outputs": [
    {
     "name": "stdout",
     "output_type": "stream",
     "text": [
      "\n",
      "IBOV Predictions for All Rows (Using Log-Lin Model):\n",
      "  Actual IBOV  Predicted IBOV\n",
      "  7039.899902    41443.404924\n",
      "  6784.000000    44878.662801\n",
      " 15259.000000    17815.041070\n",
      " 11268.000000    25496.179134\n",
      " 22236.000000    16633.158508\n",
      " 26196.000000    32639.878939\n",
      " 33456.000000    42471.191901\n",
      " 44474.000000    75465.225016\n",
      " 63886.000000    58460.860530\n",
      " 37550.000000    39476.174296\n",
      " 68588.000000    40277.055411\n",
      " 69305.000000    33060.468039\n",
      " 56754.000000    46275.611748\n",
      " 60952.000000    43265.705991\n",
      " 51507.000000    40312.051526\n",
      " 50007.000000    53402.661892\n",
      " 43350.000000    59827.585939\n",
      " 60227.000000    66625.011116\n",
      " 76402.000000    79273.013747\n",
      " 87887.000000   108082.694541\n",
      "115964.000000    71922.117924\n",
      "119306.000000   101451.680629\n",
      "104822.000000   105841.289596\n",
      "110031.000000   118878.200032\n",
      "134185.000000   114160.974653\n"
     ]
    }
   ],
   "source": [
    "predict_with_saved_model('ibov', ['ge'], 'Log-Lin')"
   ]
  },
  {
   "cell_type": "markdown",
   "id": "eb1ad055-dce2-424e-8dcb-40c10c9b6e75",
   "metadata": {},
   "source": [
    "## Seleciona o melhor modelo para o índice NIKKEI"
   ]
  },
  {
   "cell_type": "code",
   "execution_count": 779,
   "id": "2e57ddee-bfab-4b3c-88b8-5400002b491e",
   "metadata": {},
   "outputs": [
    {
     "name": "stdout",
     "output_type": "stream",
     "text": [
      "\n",
      "### Best Model for NIKKEI: LINEAR-LINEAR with Features ['pv', 'rl', 'rq'] ###\n",
      "                            OLS Regression Results                            \n",
      "==============================================================================\n",
      "Dep. Variable:                 nikkei   R-squared:                       0.711\n",
      "Model:                            OLS   Adj. R-squared:                  0.669\n",
      "Method:                 Least Squares   F-statistic:                     17.20\n",
      "Date:                Wed, 07 May 2025   Prob (F-statistic):           7.15e-06\n",
      "Time:                        18:47:06   Log-Likelihood:                 13.034\n",
      "No. Observations:                  25   AIC:                            -18.07\n",
      "Df Residuals:                      21   BIC:                            -13.19\n",
      "Df Model:                           3                                         \n",
      "Covariance Type:            nonrobust                                         \n",
      "==============================================================================\n",
      "                 coef    std err          t      P>|t|      [0.025      0.975]\n",
      "------------------------------------------------------------------------------\n",
      "const         -8.8959      1.641     -5.421      0.000     -12.309      -5.483\n",
      "pv             0.0227      0.009      2.524      0.020       0.004       0.041\n",
      "rl             0.0626      0.021      2.947      0.008       0.018       0.107\n",
      "rq             0.0212      0.006      3.368      0.003       0.008       0.034\n",
      "==============================================================================\n",
      "Omnibus:                        0.827   Durbin-Watson:                   1.378\n",
      "Prob(Omnibus):                  0.661   Jarque-Bera (JB):                0.841\n",
      "Skew:                           0.283   Prob(JB):                        0.657\n",
      "Kurtosis:                       2.303   Cond. No.                     7.77e+03\n",
      "==============================================================================\n",
      "\n",
      "Notes:\n",
      "[1] Standard Errors assume that the covariance matrix of the errors is correctly specified.\n",
      "[2] The condition number is large, 7.77e+03. This might indicate that there are\n",
      "strong multicollinearity or other numerical problems.\n",
      "Mean absolute error: 0.5129986201307769\n",
      "\n",
      "### Best Model Saved: models/nikkei/nikkei_Linear-Linear.pkl ###\n",
      "### Scaler Saved: models/nikkei/nikkei_scaler_y.pkl ###\n"
     ]
    },
    {
     "data": {
      "text/plain": [
       "<Figure size 600x400 with 0 Axes>"
      ]
     },
     "metadata": {},
     "output_type": "display_data"
    }
   ],
   "source": [
    "test_models('nikkei')"
   ]
  },
  {
   "cell_type": "code",
   "execution_count": 781,
   "id": "97cf4b3e-c76f-49a9-a963-840d70d2b0c1",
   "metadata": {},
   "outputs": [
    {
     "name": "stdout",
     "output_type": "stream",
     "text": [
      "\n",
      "NIKKEI Predictions for All Rows (Using Linear-Linear Model):\n",
      " Actual NIKKEI  Predicted NIKKEI\n",
      "  19361.349609      14427.759384\n",
      "  13842.169922      16499.150764\n",
      "  13785.690430      14893.381356\n",
      "   8578.950195       2592.712970\n",
      "  10676.639648       7787.541032\n",
      "  11488.759766      14801.010830\n",
      "  16111.429688      16109.601407\n",
      "  17225.830078      24144.825350\n",
      "  15307.780273      17717.003005\n",
      "   8859.559570      12857.644379\n",
      "  10546.440430      15206.001818\n",
      "  10228.919922      10639.659060\n",
      "   8455.349609      12865.572332\n",
      "  10395.179688      12963.130916\n",
      "  16291.309570      17138.480263\n",
      "  17450.769531      15448.445536\n",
      "  19033.710938      19056.231487\n",
      "  19114.369141      17826.006460\n",
      "  22764.939453      22618.006389\n",
      "  20014.769531      22656.791838\n",
      "  23656.619141      20242.188322\n",
      "  27444.169922      23337.773112\n",
      "  28791.710938      24075.857081\n",
      "  26094.500000      27256.793540\n",
      "  33464.171875      25823.520237\n"
     ]
    }
   ],
   "source": [
    "predict_with_saved_model('nikkei', ['pv', 'rl', 'rq'], 'Linear-Linear')"
   ]
  },
  {
   "cell_type": "markdown",
   "id": "871d66d3-e912-4b7f-abee-bcbbaa41f1f3",
   "metadata": {},
   "source": [
    "## Seleciona o melhor modelo para o índice STI"
   ]
  },
  {
   "cell_type": "code",
   "execution_count": 783,
   "id": "c9882558-e615-4a19-b7b9-8e2fbe51bce8",
   "metadata": {},
   "outputs": [
    {
     "name": "stdout",
     "output_type": "stream",
     "text": [
      "\n",
      "### Best Model for STI: LOG-LIN with Features ['ge', 'rl'] ###\n",
      "                            OLS Regression Results                            \n",
      "==============================================================================\n",
      "Dep. Variable:                    sti   R-squared:                       0.607\n",
      "Model:                            OLS   Adj. R-squared:                  0.571\n",
      "Method:                 Least Squares   F-statistic:                     16.96\n",
      "Date:                Wed, 07 May 2025   Prob (F-statistic):           3.50e-05\n",
      "Time:                        18:47:22   Log-Likelihood:                 6.5794\n",
      "No. Observations:                  25   AIC:                            -7.159\n",
      "Df Residuals:                      22   BIC:                            -3.502\n",
      "Df Model:                           2                                         \n",
      "Covariance Type:            nonrobust                                         \n",
      "==============================================================================\n",
      "                 coef    std err          t      P>|t|      [0.025      0.975]\n",
      "------------------------------------------------------------------------------\n",
      "const        -59.4866     12.002     -4.957      0.000     -84.376     -34.597\n",
      "ge             8.8627      2.630      3.370      0.003       3.408      14.317\n",
      "rl             4.2669      1.103      3.867      0.001       1.979       6.555\n",
      "==============================================================================\n",
      "Omnibus:                        0.428   Durbin-Watson:                   2.059\n",
      "Prob(Omnibus):                  0.807   Jarque-Bera (JB):                0.064\n",
      "Skew:                          -0.124   Prob(JB):                        0.968\n",
      "Kurtosis:                       3.022   Cond. No.                     2.02e+03\n",
      "==============================================================================\n",
      "\n",
      "Notes:\n",
      "[1] Standard Errors assume that the covariance matrix of the errors is correctly specified.\n",
      "[2] The condition number is large, 2.02e+03. This might indicate that there are\n",
      "strong multicollinearity or other numerical problems.\n",
      "Mean absolute error: 0.39065685132170225\n",
      "\n",
      "### Best Model Saved: models/sti/sti_Log-Lin.pkl ###\n",
      "### Scaler Saved: models/sti/sti_scaler_y.pkl ###\n"
     ]
    },
    {
     "data": {
      "text/plain": [
       "<Figure size 600x400 with 0 Axes>"
      ]
     },
     "metadata": {},
     "output_type": "display_data"
    }
   ],
   "source": [
    "test_models('sti')"
   ]
  },
  {
   "cell_type": "code",
   "execution_count": 785,
   "id": "e905a298-3955-48f1-aaa5-9e39b36f83d7",
   "metadata": {},
   "outputs": [
    {
     "name": "stdout",
     "output_type": "stream",
     "text": [
      "\n",
      "STI Predictions for All Rows (Using Log-Lin Model):\n",
      " Actual STI  Predicted STI\n",
      "2216.800049    2246.780316\n",
      "1392.729980    2253.106615\n",
      "1926.829956    2154.491164\n",
      "1341.030029    1128.918353\n",
      "1764.520020    2035.333139\n",
      "2066.139893    2204.969349\n",
      "2347.340088    2745.022308\n",
      "2985.830078    2649.895270\n",
      "3482.300049    2601.702754\n",
      "1761.560059    2597.520526\n",
      "2879.760010    2609.942985\n",
      "3190.040039    2657.637727\n",
      "2646.350098    2667.858712\n",
      "3167.080078    2760.611300\n",
      "3167.429932    2806.640348\n",
      "3365.149902    2789.795068\n",
      "2882.729980    2889.829813\n",
      "2880.760010    3074.412552\n",
      "3402.919922    3119.986928\n",
      "3068.760010    3210.466733\n",
      "3222.830078    3210.466733\n",
      "2843.810059    3300.067362\n",
      "3123.679932    3300.067362\n",
      "3251.320068    3345.380928\n",
      "3240.270020    3257.065993\n"
     ]
    }
   ],
   "source": [
    "predict_with_saved_model('sti', ['ge', 'rl'], 'Log-Lin')"
   ]
  },
  {
   "cell_type": "markdown",
   "id": "b5d16c94-9faa-43bc-8d8e-e56e981ccb8d",
   "metadata": {},
   "source": [
    "## Seleciona o melhor modelo para o índice ASX200"
   ]
  },
  {
   "cell_type": "code",
   "execution_count": 787,
   "id": "4a5f0386-babd-424c-ac24-7c2116f52c1d",
   "metadata": {},
   "outputs": [
    {
     "name": "stdout",
     "output_type": "stream",
     "text": [
      "\n",
      "### Best Model for ASX200: LINEAR-LINEAR with Features ['rl', 'rq'] ###\n",
      "                            OLS Regression Results                            \n",
      "==============================================================================\n",
      "Dep. Variable:                 asx200   R-squared:                       0.811\n",
      "Model:                            OLS   Adj. R-squared:                  0.793\n",
      "Method:                 Least Squares   F-statistic:                     47.06\n",
      "Date:                Wed, 07 May 2025   Prob (F-statistic):           1.13e-08\n",
      "Time:                        18:47:28   Log-Likelihood:                 17.587\n",
      "No. Observations:                  25   AIC:                            -29.17\n",
      "Df Residuals:                      22   BIC:                            -25.52\n",
      "Df Model:                           2                                         \n",
      "Covariance Type:            nonrobust                                         \n",
      "==============================================================================\n",
      "                 coef    std err          t      P>|t|      [0.025      0.975]\n",
      "------------------------------------------------------------------------------\n",
      "const          5.7081      2.851      2.002      0.058      -0.205      11.621\n",
      "rl            -0.1010      0.021     -4.754      0.000      -0.145      -0.057\n",
      "rq             0.0453      0.012      3.820      0.001       0.021       0.070\n",
      "==============================================================================\n",
      "Omnibus:                        1.752   Durbin-Watson:                   1.725\n",
      "Prob(Omnibus):                  0.416   Jarque-Bera (JB):                1.023\n",
      "Skew:                           0.030   Prob(JB):                        0.600\n",
      "Kurtosis:                       2.011   Cond. No.                     1.51e+04\n",
      "==============================================================================\n",
      "\n",
      "Notes:\n",
      "[1] Standard Errors assume that the covariance matrix of the errors is correctly specified.\n",
      "[2] The condition number is large, 1.51e+04. This might indicate that there are\n",
      "strong multicollinearity or other numerical problems.\n",
      "Mean absolute error: 0.3716351297360717\n",
      "\n",
      "### Best Model Saved: models/asx200/asx200_Linear-Linear.pkl ###\n",
      "### Scaler Saved: models/asx200/asx200_scaler_y.pkl ###\n"
     ]
    },
    {
     "data": {
      "text/plain": [
       "<Figure size 600x400 with 0 Axes>"
      ]
     },
     "metadata": {},
     "output_type": "display_data"
    }
   ],
   "source": [
    "test_models('asx200')"
   ]
  },
  {
   "cell_type": "code",
   "execution_count": 789,
   "id": "47fdcc8c-96c5-49f9-8e08-0779c72edd62",
   "metadata": {},
   "outputs": [
    {
     "name": "stdout",
     "output_type": "stream",
     "text": [
      "\n",
      "ASX200 Predictions for All Rows (Using Linear-Linear Model):\n",
      " Actual ASX200  Predicted ASX200\n",
      "   2367.800049       2580.156551\n",
      "   2717.600098       3090.193062\n",
      "   3206.199951       4265.682464\n",
      "   3007.100098       2845.985851\n",
      "   3299.800049       3484.964717\n",
      "   4050.600098       4397.737082\n",
      "   4763.399902       4187.134403\n",
      "   5669.899902       4931.225582\n",
      "   6339.799805       5058.580221\n",
      "   3722.300049       4792.955765\n",
      "   4870.600098       5592.292820\n",
      "   4745.200195       5020.698077\n",
      "   4056.600098       4841.632460\n",
      "   4649.000000       4615.161223\n",
      "   5352.200195       4615.161223\n",
      "   5411.000000       4633.066919\n",
      "   5295.899902       4670.247499\n",
      "   5665.799805       5265.285345\n",
      "   6065.100098       6140.187015\n",
      "   5646.399902       6393.900212\n",
      "   6684.100098       6253.961291\n",
      "   6587.100098       6901.318475\n",
      "   7444.600098       6761.383619\n",
      "   7038.700195       7705.661308\n",
      "   7590.799805       7203.027402\n"
     ]
    }
   ],
   "source": [
    "predict_with_saved_model('asx200', ['rl', 'rq'], 'Linear-Linear')"
   ]
  },
  {
   "cell_type": "markdown",
   "id": "61b65dc5-fd2a-4090-bf9a-cbf7a049c3f9",
   "metadata": {},
   "source": [
    "## Seleciona o melhor modelo para o índice SP500"
   ]
  },
  {
   "cell_type": "code",
   "execution_count": 791,
   "id": "3648525c-d2dc-43e2-bd76-a39cba2efce0",
   "metadata": {},
   "outputs": [
    {
     "name": "stdout",
     "output_type": "stream",
     "text": [
      "\n",
      "### Best Model for SP500: LOG-LIN with Features ['va'] ###\n",
      "                            OLS Regression Results                            \n",
      "==============================================================================\n",
      "Dep. Variable:                  sp500   R-squared:                       0.868\n",
      "Model:                            OLS   Adj. R-squared:                  0.863\n",
      "Method:                 Least Squares   F-statistic:                     151.9\n",
      "Date:                Wed, 07 May 2025   Prob (F-statistic):           1.30e-11\n",
      "Time:                        18:47:36   Log-Likelihood:                 21.127\n",
      "No. Observations:                  25   AIC:                            -38.25\n",
      "Df Residuals:                      23   BIC:                            -35.82\n",
      "Df Model:                           1                                         \n",
      "Covariance Type:            nonrobust                                         \n",
      "==============================================================================\n",
      "                 coef    std err          t      P>|t|      [0.025      0.975]\n",
      "------------------------------------------------------------------------------\n",
      "const         17.4665      1.391     12.554      0.000      14.588      20.345\n",
      "va            -3.8683      0.314    -12.324      0.000      -4.518      -3.219\n",
      "==============================================================================\n",
      "Omnibus:                        1.741   Durbin-Watson:                   1.363\n",
      "Prob(Omnibus):                  0.419   Jarque-Bera (JB):                0.963\n",
      "Skew:                           0.478   Prob(JB):                        0.618\n",
      "Kurtosis:                       3.092   Cond. No.                         299.\n",
      "==============================================================================\n",
      "\n",
      "Notes:\n",
      "[1] Standard Errors assume that the covariance matrix of the errors is correctly specified.\n",
      "Mean absolute error: 0.38182316735406574\n",
      "\n",
      "### Best Model Saved: models/sp500/sp500_Log-Lin.pkl ###\n",
      "### Scaler Saved: models/sp500/sp500_scaler_y.pkl ###\n"
     ]
    },
    {
     "data": {
      "text/plain": [
       "<Figure size 600x400 with 0 Axes>"
      ]
     },
     "metadata": {},
     "output_type": "display_data"
    }
   ],
   "source": [
    "test_models('sp500')"
   ]
  },
  {
   "cell_type": "code",
   "execution_count": 793,
   "id": "55ad166a-35ef-4a8e-b2f1-4ff32cab80fd",
   "metadata": {},
   "outputs": [
    {
     "name": "stdout",
     "output_type": "stream",
     "text": [
      "\n",
      "SP500 Predictions for All Rows (Using Log-Lin Model):\n",
      " Actual SP500  Predicted SP500\n",
      "   740.739990       769.267171\n",
      "  1229.229980       761.522528\n",
      "  1320.280029      1109.454909\n",
      "   879.820007       590.398025\n",
      "  1111.920044       761.522528\n",
      "  1211.920044       960.056559\n",
      "  1248.290039       960.056559\n",
      "  1418.300049      1560.691201\n",
      "  1468.359985      1736.596012\n",
      "   903.250000      1560.691201\n",
      "  1115.099976      1873.842449\n",
      "  1257.640015      1698.915038\n",
      "  1257.599976      1588.637542\n",
      "  1426.189941      1334.024194\n",
      "  1848.359985      2022.364694\n",
      "  2058.899902      2452.342788\n",
      "  2043.939941      1985.149266\n",
      "  2238.830078      1985.149266\n",
      "  2673.610107      2547.469438\n",
      "  2506.850098      2778.426416\n",
      "  3230.780029      3339.111786\n",
      "  3756.070068      4250.552909\n",
      "  4766.180176      3940.839589\n",
      "  3839.500000      4043.402402\n",
      "  4769.830078      3711.006072\n"
     ]
    }
   ],
   "source": [
    "predict_with_saved_model('sp500', ['va'], 'Log-Lin')"
   ]
  },
  {
   "cell_type": "markdown",
   "id": "0b6c768f-3f12-400c-b67b-6b1a7ea32e37",
   "metadata": {},
   "source": [
    "## Seleciona o melhor modelo para o índice SSMI"
   ]
  },
  {
   "cell_type": "code",
   "execution_count": 795,
   "id": "008236b0-ccf3-4113-9d52-f875773ff33f",
   "metadata": {},
   "outputs": [
    {
     "name": "stdout",
     "output_type": "stream",
     "text": [
      "\n",
      "### Best Model for SSMI: LINEAR-LINEAR with Features ['cc', 'ge', 'pv', 'va'] ###\n",
      "                            OLS Regression Results                            \n",
      "==============================================================================\n",
      "Dep. Variable:                   ssmi   R-squared:                       0.655\n",
      "Model:                            OLS   Adj. R-squared:                  0.585\n",
      "Method:                 Least Squares   F-statistic:                     9.473\n",
      "Date:                Wed, 07 May 2025   Prob (F-statistic):           0.000183\n",
      "Time:                        18:47:59   Log-Likelihood:                 13.570\n",
      "No. Observations:                  25   AIC:                            -17.14\n",
      "Df Residuals:                      20   BIC:                            -11.05\n",
      "Df Model:                           4                                         \n",
      "Covariance Type:            nonrobust                                         \n",
      "==============================================================================\n",
      "                 coef    std err          t      P>|t|      [0.025      0.975]\n",
      "------------------------------------------------------------------------------\n",
      "const        -13.2615      5.070     -2.616      0.017     -23.836      -2.686\n",
      "cc             0.1682      0.063      2.673      0.015       0.037       0.299\n",
      "ge             0.1067      0.026      4.048      0.001       0.052       0.162\n",
      "pv            -0.0498      0.014     -3.602      0.002      -0.079      -0.021\n",
      "va            -0.0851      0.035     -2.423      0.025      -0.158      -0.012\n",
      "==============================================================================\n",
      "Omnibus:                        6.191   Durbin-Watson:                   1.919\n",
      "Prob(Omnibus):                  0.045   Jarque-Bera (JB):                4.231\n",
      "Skew:                          -0.934   Prob(JB):                        0.121\n",
      "Kurtosis:                       3.757   Cond. No.                     3.12e+04\n",
      "==============================================================================\n",
      "\n",
      "Notes:\n",
      "[1] Standard Errors assume that the covariance matrix of the errors is correctly specified.\n",
      "[2] The condition number is large, 3.12e+04. This might indicate that there are\n",
      "strong multicollinearity or other numerical problems.\n",
      "Mean absolute error: 0.432343910981314\n",
      "\n",
      "### Best Model Saved: models/ssmi/ssmi_Linear-Linear.pkl ###\n",
      "### Scaler Saved: models/ssmi/ssmi_scaler_y.pkl ###\n"
     ]
    },
    {
     "data": {
      "text/plain": [
       "<Figure size 600x400 with 0 Axes>"
      ]
     },
     "metadata": {},
     "output_type": "display_data"
    }
   ],
   "source": [
    "test_models('ssmi')"
   ]
  },
  {
   "cell_type": "code",
   "execution_count": 797,
   "id": "e0a80fb9-d7bf-44b6-87cb-86d7219bcc56",
   "metadata": {},
   "outputs": [
    {
     "name": "stdout",
     "output_type": "stream",
     "text": [
      "\n",
      "SSMI Predictions for All Rows (Using Linear-Linear Model):\n",
      " Actual SSMI  Predicted SSMI\n",
      " 3942.199951     4564.448148\n",
      " 7160.700195     6531.950939\n",
      " 8135.399902     7002.624085\n",
      " 4630.799805     6481.047838\n",
      " 5487.799805     4471.641888\n",
      " 5693.200195     8938.716994\n",
      " 7583.899902     8640.363259\n",
      " 8785.700195     7554.678678\n",
      " 8484.500000     8488.424502\n",
      " 5534.529785     8528.979895\n",
      " 6545.910156     7005.210534\n",
      " 6436.040039     7271.602697\n",
      " 5936.229980     5380.617030\n",
      " 6822.439941     6700.753424\n",
      " 8202.980469     7370.163179\n",
      " 8983.370117     8729.006277\n",
      " 8818.089844     9272.996735\n",
      " 8219.870117     7995.187331\n",
      " 9381.870117     9276.188996\n",
      " 8429.299805     7599.785343\n",
      "10616.940430     8921.085753\n",
      "10703.509766    10173.873691\n",
      "12875.660156    10670.265081\n",
      "10729.400391    10094.697737\n",
      "11137.790039    11613.821070\n"
     ]
    }
   ],
   "source": [
    "predict_with_saved_model('ssmi', ['cc', 'ge', 'pv', 'va'], 'Linear-Linear')"
   ]
  },
  {
   "cell_type": "markdown",
   "id": "735acc27-d64d-4fea-a939-320e858518d7",
   "metadata": {},
   "source": [
    "## Seleciona o melhor modelo para o índice MEXBOL"
   ]
  },
  {
   "cell_type": "code",
   "execution_count": 799,
   "id": "d1c1ecdc-8d78-44ff-831c-70bb43c58a94",
   "metadata": {},
   "outputs": [
    {
     "name": "stdout",
     "output_type": "stream",
     "text": [
      "\n",
      "### Best Model for MEXBOL: LINEAR-LINEAR with Features ['cc', 'pv'] ###\n",
      "                            OLS Regression Results                            \n",
      "==============================================================================\n",
      "Dep. Variable:                 mexbol   R-squared:                       0.704\n",
      "Model:                            OLS   Adj. R-squared:                  0.678\n",
      "Method:                 Least Squares   F-statistic:                     26.21\n",
      "Date:                Wed, 07 May 2025   Prob (F-statistic):           1.51e-06\n",
      "Time:                        18:48:08   Log-Likelihood:                 9.3174\n",
      "No. Observations:                  25   AIC:                            -12.63\n",
      "Df Residuals:                      22   BIC:                            -8.978\n",
      "Df Model:                           2                                         \n",
      "Covariance Type:            nonrobust                                         \n",
      "==============================================================================\n",
      "                 coef    std err          t      P>|t|      [0.025      0.975]\n",
      "------------------------------------------------------------------------------\n",
      "const          1.3418      0.127     10.546      0.000       1.078       1.606\n",
      "cc            -0.0140      0.004     -3.783      0.001      -0.022      -0.006\n",
      "pv            -0.0131      0.006     -2.078      0.050      -0.026    -2.4e-05\n",
      "==============================================================================\n",
      "Omnibus:                       14.447   Durbin-Watson:                   0.615\n",
      "Prob(Omnibus):                  0.001   Jarque-Bera (JB):               15.807\n",
      "Skew:                          -1.317   Prob(JB):                     0.000369\n",
      "Kurtosis:                       5.869   Cond. No.                         159.\n",
      "==============================================================================\n",
      "\n",
      "Notes:\n",
      "[1] Standard Errors assume that the covariance matrix of the errors is correctly specified.\n",
      "Mean absolute error: 0.6098551674710786\n",
      "\n",
      "### Best Model Saved: models/mexbol/mexbol_Linear-Linear.pkl ###\n",
      "### Scaler Saved: models/mexbol/mexbol_scaler_y.pkl ###\n"
     ]
    },
    {
     "data": {
      "text/plain": [
       "<Figure size 600x400 with 0 Axes>"
      ]
     },
     "metadata": {},
     "output_type": "display_data"
    }
   ],
   "source": [
    "test_models('mexbol')"
   ]
  },
  {
   "cell_type": "code",
   "execution_count": 801,
   "id": "23c1f52f-a416-4eb6-9af8-a2465ae241e0",
   "metadata": {},
   "outputs": [
    {
     "name": "stdout",
     "output_type": "stream",
     "text": [
      "\n",
      "MEXBOL Predictions for All Rows (Using Linear-Linear Model):\n",
      " Actual MEXBOL  Predicted MEXBOL\n",
      "   3361.000000      33620.754528\n",
      "   3959.659912      20396.618742\n",
      "   5652.189941       6084.447161\n",
      "   6127.089844       7027.395747\n",
      "   8795.280273      10011.310273\n",
      "  12917.879883      16544.938576\n",
      "  17802.710938      16971.151908\n",
      "  26448.320312      23420.174460\n",
      "  29536.830078      24171.302130\n",
      "  22380.320312      27349.078972\n",
      "  32120.470703      26038.253683\n",
      "  38243.140625      28437.900179\n",
      "  37077.519531      27275.330340\n",
      "  43705.828125      29380.996628\n",
      "  42958.820312      32937.630917\n",
      "  43145.660156      46501.007974\n",
      "  42977.500000      45758.475221\n",
      "  45642.898438      43690.199686\n",
      "  49354.421875      51035.852690\n",
      "  41640.269531      47077.317093\n",
      "  43541.019531      49021.825236\n",
      "  44066.878906      47253.323712\n",
      "  53272.441406      46010.832142\n",
      "  48463.859375      48163.331222\n",
      "  57386.250000      46398.810787\n"
     ]
    }
   ],
   "source": [
    "predict_with_saved_model('mexbol', ['cc', 'pv'], 'Linear-Linear')"
   ]
  },
  {
   "cell_type": "code",
   "execution_count": null,
   "id": "c6fa45c6-9ecd-48f3-8d2b-8e759f0a3a43",
   "metadata": {},
   "outputs": [],
   "source": [
    "## Seleciona o melhor modelo para o índice DAX"
   ]
  },
  {
   "cell_type": "code",
   "execution_count": 803,
   "id": "8005a0eb-5472-4d2d-b791-8a876cddbe93",
   "metadata": {},
   "outputs": [
    {
     "name": "stdout",
     "output_type": "stream",
     "text": [
      "\n",
      "### Best Model for DAX: LOG-LIN with Features ['cc', 'rq'] ###\n",
      "                            OLS Regression Results                            \n",
      "==============================================================================\n",
      "Dep. Variable:                    dax   R-squared:                       0.622\n",
      "Model:                            OLS   Adj. R-squared:                  0.588\n",
      "Method:                 Least Squares   F-statistic:                     18.11\n",
      "Date:                Wed, 07 May 2025   Prob (F-statistic):           2.24e-05\n",
      "Time:                        18:48:17   Log-Likelihood:                 7.9212\n",
      "No. Observations:                  25   AIC:                            -9.842\n",
      "Df Residuals:                      22   BIC:                            -6.186\n",
      "Df Model:                           2                                         \n",
      "Covariance Type:            nonrobust                                         \n",
      "==============================================================================\n",
      "                 coef    std err          t      P>|t|      [0.025      0.975]\n",
      "------------------------------------------------------------------------------\n",
      "const       -102.8177     17.965     -5.723      0.000    -140.075     -65.560\n",
      "cc            16.3708      3.800      4.308      0.000       8.490      24.251\n",
      "rq             6.3661      1.820      3.498      0.002       2.592      10.140\n",
      "==============================================================================\n",
      "Omnibus:                       14.126   Durbin-Watson:                   1.133\n",
      "Prob(Omnibus):                  0.001   Jarque-Bera (JB):               16.084\n",
      "Skew:                           1.238   Prob(JB):                     0.000322\n",
      "Kurtosis:                       6.052   Cond. No.                     3.16e+03\n",
      "==============================================================================\n",
      "\n",
      "Notes:\n",
      "[1] Standard Errors assume that the covariance matrix of the errors is correctly specified.\n",
      "[2] The condition number is large, 3.16e+03. This might indicate that there are\n",
      "strong multicollinearity or other numerical problems.\n",
      "Mean absolute error: 0.6239750532222224\n",
      "\n",
      "### Best Model Saved: models/dax/dax_Log-Lin.pkl ###\n",
      "### Scaler Saved: models/dax/dax_scaler_y.pkl ###\n"
     ]
    },
    {
     "data": {
      "text/plain": [
       "<Figure size 600x400 with 0 Axes>"
      ]
     },
     "metadata": {},
     "output_type": "display_data"
    }
   ],
   "source": [
    "test_models('dax')"
   ]
  },
  {
   "cell_type": "code",
   "execution_count": 805,
   "id": "f43e9d3d-138d-4d33-ba2c-2c27862004b3",
   "metadata": {},
   "outputs": [
    {
     "name": "stdout",
     "output_type": "stream",
     "text": [
      "\n",
      "DAX Predictions for All Rows (Using Log-Lin Model):\n",
      "  Actual DAX  Predicted DAX\n",
      " 2880.070068    6584.596004\n",
      " 5006.569824    5249.857930\n",
      " 6433.609863    4131.284214\n",
      " 2892.629883    5326.129314\n",
      " 3965.159912    4270.503244\n",
      " 4256.080078    5665.535650\n",
      " 5408.259766    8093.135811\n",
      " 6596.919922    7581.674129\n",
      " 8067.319824    5774.070670\n",
      " 4810.200195    5858.990433\n",
      " 5957.430176    7582.577490\n",
      " 6914.189941    7660.986815\n",
      " 5898.350098    6889.093321\n",
      " 7612.390137    8291.231994\n",
      " 9552.160156    8749.839853\n",
      " 9805.549805    9110.541358\n",
      "10743.009766    8140.796206\n",
      "11481.059570   11532.678777\n",
      "12917.639648   12521.629335\n",
      "10558.959961   14815.481821\n",
      "13249.009766   14558.994763\n",
      "13718.780273   11869.357344\n",
      "15884.860352   14368.359375\n",
      "13923.589844   12264.768261\n",
      "16751.640625    8393.325341\n"
     ]
    }
   ],
   "source": [
    "predict_with_saved_model('dax', ['cc', 'rq'], 'Log-Lin')"
   ]
  }
 ],
 "metadata": {
  "kernelspec": {
   "display_name": "Python 3 (ipykernel)",
   "language": "python",
   "name": "python3"
  },
  "language_info": {
   "codemirror_mode": {
    "name": "ipython",
    "version": 3
   },
   "file_extension": ".py",
   "mimetype": "text/x-python",
   "name": "python",
   "nbconvert_exporter": "python",
   "pygments_lexer": "ipython3",
   "version": "3.11.5"
  }
 },
 "nbformat": 4,
 "nbformat_minor": 5
}
